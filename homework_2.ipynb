{
 "cells": [
  {
   "cell_type": "code",
   "execution_count": 3,
   "metadata": {},
   "outputs": [
    {
     "name": "stdout",
     "output_type": "stream",
     "text": [
      "mlflow, version 2.22.0\n"
     ]
    }
   ],
   "source": [
    "# Task 1: MLflow version\n",
    "\n",
    "!mlflow --version"
   ]
  },
  {
   "cell_type": "code",
   "execution_count": 4,
   "metadata": {},
   "outputs": [],
   "source": [
    "# Task 2: Download and preprocess the data\n",
    "!python preprocess_data.py --raw_data_path ./data/homework_2  --dest_path ./output "
   ]
  },
  {
   "cell_type": "code",
   "execution_count": null,
   "metadata": {},
   "outputs": [
    {
     "name": "stdout",
     "output_type": "stream",
     "text": [
      "RMSE: 5.431160019389339\n"
     ]
    }
   ],
   "source": [
    "# Task 3: Train a model with autolog\n",
    "\n",
    "!python train.py --data_path ./output\n",
    "!mlflow ui"
   ]
  },
  {
   "cell_type": "code",
   "execution_count": 9,
   "metadata": {},
   "outputs": [],
   "source": [
    "# Task 4: Launch the tracking server locally\n",
    "\n",
    "!mkdir -p mlruns artifacts"
   ]
  },
  {
   "cell_type": "code",
   "execution_count": 2,
   "metadata": {},
   "outputs": [
    {
     "name": "stdout",
     "output_type": "stream",
     "text": [
      "[2025-05-22 23:31:58 +0700] [4593] [INFO] Starting gunicorn 23.0.0\n",
      "[2025-05-22 23:31:58 +0700] [4593] [INFO] Listening at: http://0.0.0.0:5001 (4593)\n",
      "[2025-05-22 23:31:58 +0700] [4593] [INFO] Using worker: sync\n",
      "[2025-05-22 23:31:58 +0700] [4594] [INFO] Booting worker with pid: 4594\n",
      "[2025-05-22 23:31:58 +0700] [4595] [INFO] Booting worker with pid: 4595\n",
      "[2025-05-22 23:31:58 +0700] [4596] [INFO] Booting worker with pid: 4596\n",
      "[2025-05-22 23:31:58 +0700] [4597] [INFO] Booting worker with pid: 4597\n",
      "^C\n",
      "[2025-05-22 23:32:40 +0700] [4593] [INFO] Handling signal: int\n",
      "[2025-05-22 23:32:40 +0700] [4594] [INFO] Worker exiting (pid: 4594)\n",
      "[2025-05-22 23:32:40 +0700] [4597] [INFO] Worker exiting (pid: 4597)\n",
      "[2025-05-22 23:32:40 +0700] [4596] [INFO] Worker exiting (pid: 4596)\n",
      "[2025-05-22 23:32:40 +0700] [4595] [INFO] Worker exiting (pid: 4595)\n"
     ]
    }
   ],
   "source": [
    "!mlflow server \\\n",
    "  --backend-store-uri sqlite:///mlflow.db \\\n",
    "  --default-artifact-root ./artifacts \\\n",
    "  --host 0.0.0.0 \\\n",
    "  --port 5001"
   ]
  },
  {
   "cell_type": "code",
   "execution_count": 8,
   "metadata": {},
   "outputs": [
    {
     "name": "stdout",
     "output_type": "stream",
     "text": [
      "2025/05/22 23:53:48 INFO mlflow.tracking.fluent: Experiment with name 'random-forest-hyperopt' does not exist. Creating a new experiment.\n",
      "🏃 View run likeable-calf-172 at: http://127.0.0.1:5001/#/experiments/1/runs/0fdc92d1c6484b2abbb1cd27e278700b\n",
      "\n",
      "🧪 View experiment at: http://127.0.0.1:5001/#/experiments/1                    \n",
      "\n",
      "🏃 View run exultant-crab-8 at: http://127.0.0.1:5001/#/experiments/1/runs/7d1e8846590441d6b963ca291d2d400b\n",
      "\n",
      "🧪 View experiment at: http://127.0.0.1:5001/#/experiments/1                    \n",
      "\n",
      "🏃 View run likeable-hawk-842 at: http://127.0.0.1:5001/#/experiments/1/runs/f2bf603092724e09817fa4b78daac9e2\n",
      "\n",
      "🧪 View experiment at: http://127.0.0.1:5001/#/experiments/1                    \n",
      "\n",
      "🏃 View run serious-bird-682 at: http://127.0.0.1:5001/#/experiments/1/runs/f164f66b452343b8bd6d068c7c1cf7da\n",
      "\n",
      "🧪 View experiment at: http://127.0.0.1:5001/#/experiments/1                    \n",
      "\n",
      "🏃 View run stately-lynx-324 at: http://127.0.0.1:5001/#/experiments/1/runs/7f37786cb34548ff810d676a2bb2873d\n",
      "\n",
      "🧪 View experiment at: http://127.0.0.1:5001/#/experiments/1                    \n",
      "\n",
      "🏃 View run traveling-rat-843 at: http://127.0.0.1:5001/#/experiments/1/runs/01f37d617ab64fd1ad818a0501934b63\n",
      "\n",
      "🧪 View experiment at: http://127.0.0.1:5001/#/experiments/1                    \n",
      "\n",
      "🏃 View run likeable-eel-856 at: http://127.0.0.1:5001/#/experiments/1/runs/6d443ab4cf054786acacbcbba188b061\n",
      "\n",
      "🧪 View experiment at: http://127.0.0.1:5001/#/experiments/1                    \n",
      "\n",
      "🏃 View run whimsical-swan-724 at: http://127.0.0.1:5001/#/experiments/1/runs/97782c0029294997bc451eb6726f9a51\n",
      "\n",
      "🧪 View experiment at: http://127.0.0.1:5001/#/experiments/1                    \n",
      "\n",
      "🏃 View run calm-seal-503 at: http://127.0.0.1:5001/#/experiments/1/runs/d2b9207303f84be8ad9056271589a795\n",
      "\n",
      "🧪 View experiment at: http://127.0.0.1:5001/#/experiments/1                    \n",
      "\n",
      "🏃 View run bemused-seal-451 at: http://127.0.0.1:5001/#/experiments/1/runs/8d3442660afa472898b22423a88121c0\n",
      "\n",
      "🧪 View experiment at: http://127.0.0.1:5001/#/experiments/1                    \n",
      "\n",
      "🏃 View run omniscient-trout-682 at: http://127.0.0.1:5001/#/experiments/1/runs/a1ee7cc6e2ac4c899a1ce000a7afc53d\n",
      "\n",
      "🧪 View experiment at: http://127.0.0.1:5001/#/experiments/1                    \n",
      "\n",
      "🏃 View run rogue-chimp-360 at: http://127.0.0.1:5001/#/experiments/1/runs/0dafaabe5a104b85917bb74c978fe12d\n",
      "\n",
      "🧪 View experiment at: http://127.0.0.1:5001/#/experiments/1                    \n",
      "\n",
      "🏃 View run charming-slug-308 at: http://127.0.0.1:5001/#/experiments/1/runs/d8c98de5ad9f41b188c11dfdd119eebf\n",
      "\n",
      "🧪 View experiment at: http://127.0.0.1:5001/#/experiments/1                    \n",
      "\n",
      "🏃 View run popular-doe-484 at: http://127.0.0.1:5001/#/experiments/1/runs/fdbb0629dc544618885df5b726e22ca2\n",
      "\n",
      "🧪 View experiment at: http://127.0.0.1:5001/#/experiments/1                    \n",
      "\n",
      "🏃 View run sincere-midge-821 at: http://127.0.0.1:5001/#/experiments/1/runs/d32033b146744816a17d5da59cb614c1\n",
      "\n",
      "🧪 View experiment at: http://127.0.0.1:5001/#/experiments/1                    \n",
      "\n",
      "100%|██████████| 15/15 [00:29<00:00,  1.99s/trial, best loss: 5.335419588556921]\n"
     ]
    }
   ],
   "source": [
    "# Task 5: Tune model hyperparameters\n",
    "# pip install hyperopt\n",
    "\n",
    "# !mlflow server \\\n",
    "#   --backend-store-uri sqlite:///mlflow.db \\\n",
    "#   --default-artifact-root ./artifacts \\\n",
    "#   --host 127.0.0.1 \\\n",
    "#   --port 5001\n",
    "!python hpo.py"
   ]
  },
  {
   "cell_type": "code",
   "execution_count": 9,
   "metadata": {},
   "outputs": [
    {
     "name": "stdout",
     "output_type": "stream",
     "text": [
      "🏃 View run orderly-sow-250 at: http://127.0.0.1:5001/#/experiments/1/runs/302b40d879214367b8637cfbcbd0527b\n",
      "\n",
      "🧪 View experiment at: http://127.0.0.1:5001/#/experiments/1                    \n",
      "\n",
      "🏃 View run honorable-skunk-273 at: http://127.0.0.1:5001/#/experiments/1/runs/6da0f035648c476c982cb6745f7b4f06\n",
      "\n",
      "🧪 View experiment at: http://127.0.0.1:5001/#/experiments/1                    \n",
      "\n",
      "🏃 View run debonair-newt-32 at: http://127.0.0.1:5001/#/experiments/1/runs/b22d0ecd189048cb87e2e2aa550c5212\n",
      "\n",
      "🧪 View experiment at: http://127.0.0.1:5001/#/experiments/1                    \n",
      "\n",
      "🏃 View run abrasive-bug-598 at: http://127.0.0.1:5001/#/experiments/1/runs/a3ce05a057e748a0999d97042296ba82\n",
      "\n",
      "🧪 View experiment at: http://127.0.0.1:5001/#/experiments/1                    \n",
      "\n",
      "🏃 View run luxuriant-mule-145 at: http://127.0.0.1:5001/#/experiments/1/runs/5a83eae651044eb1bfcda284c5339ca3\n",
      "\n",
      "🧪 View experiment at: http://127.0.0.1:5001/#/experiments/1                    \n",
      "\n",
      "🏃 View run whimsical-hen-424 at: http://127.0.0.1:5001/#/experiments/1/runs/5b4ea9793bc54502beec6259d67376bf\n",
      "\n",
      "🧪 View experiment at: http://127.0.0.1:5001/#/experiments/1                    \n",
      "\n",
      "🏃 View run beautiful-stag-133 at: http://127.0.0.1:5001/#/experiments/1/runs/e3328c4ee37643e980ca1a5874b59482\n",
      "\n",
      "🧪 View experiment at: http://127.0.0.1:5001/#/experiments/1                    \n",
      "\n",
      "🏃 View run amazing-fly-60 at: http://127.0.0.1:5001/#/experiments/1/runs/8f41fa252e4448219775b21431433861\n",
      "\n",
      "🧪 View experiment at: http://127.0.0.1:5001/#/experiments/1                    \n",
      "\n",
      "🏃 View run nervous-midge-854 at: http://127.0.0.1:5001/#/experiments/1/runs/f669db1a7fdc4aab8bd2b9f52f9d55f4\n",
      "\n",
      "🧪 View experiment at: http://127.0.0.1:5001/#/experiments/1                    \n",
      "\n",
      "🏃 View run thoughtful-bass-59 at: http://127.0.0.1:5001/#/experiments/1/runs/011fdb48054246399c7b12401225df97\n",
      "\n",
      "🧪 View experiment at: http://127.0.0.1:5001/#/experiments/1                    \n",
      "\n",
      "🏃 View run welcoming-crow-327 at: http://127.0.0.1:5001/#/experiments/1/runs/a001b3b76aa74c7ca61e73c3f4e2335b\n",
      "\n",
      "🧪 View experiment at: http://127.0.0.1:5001/#/experiments/1                    \n",
      "\n",
      "🏃 View run invincible-whale-982 at: http://127.0.0.1:5001/#/experiments/1/runs/eff81d908aa04929b258c7af46bfb8f1\n",
      "\n",
      "🧪 View experiment at: http://127.0.0.1:5001/#/experiments/1                    \n",
      "\n",
      "🏃 View run loud-chimp-381 at: http://127.0.0.1:5001/#/experiments/1/runs/053a7f9fff1145c2be05a7f36086b9c4\n",
      "\n",
      "🧪 View experiment at: http://127.0.0.1:5001/#/experiments/1                    \n",
      "\n",
      "🏃 View run clean-grouse-558 at: http://127.0.0.1:5001/#/experiments/1/runs/9b6f75d218254c17ae8af1283b7722dd\n",
      "\n",
      "🧪 View experiment at: http://127.0.0.1:5001/#/experiments/1                    \n",
      "\n",
      "🏃 View run clumsy-whale-607 at: http://127.0.0.1:5001/#/experiments/1/runs/8d34c2d0b35e41c59ac3328db8340429\n",
      "\n",
      "🧪 View experiment at: http://127.0.0.1:5001/#/experiments/1                    \n",
      "\n",
      "100%|██████████| 15/15 [00:29<00:00,  1.98s/trial, best loss: 5.335419588556921]\n"
     ]
    }
   ],
   "source": [
    "# Task 6: Promote the best model to the model registry\n",
    "\n",
    "# !mlflow server \\\n",
    "#   --backend-store-uri sqlite:///mlflow.db \\\n",
    "#   --default-artifact-root ./artifacts \\\n",
    "#   --host 127.0.0.1 \\\n",
    "#   --port 5001\n",
    "\n",
    "!python hpo.py"
   ]
  },
  {
   "cell_type": "code",
   "execution_count": 11,
   "metadata": {},
   "outputs": [
    {
     "name": "stdout",
     "output_type": "stream",
     "text": [
      "🏃 View run defiant-wolf-70 at: http://127.0.0.1:5001/#/experiments/2/runs/994006cf90644e369a07f68cb40f5e60\n",
      "🧪 View experiment at: http://127.0.0.1:5001/#/experiments/2\n",
      "🏃 View run judicious-rat-143 at: http://127.0.0.1:5001/#/experiments/2/runs/ca90dc9e77a74a34b42edb8f2dd12c7c\n",
      "🧪 View experiment at: http://127.0.0.1:5001/#/experiments/2\n",
      "🏃 View run welcoming-mouse-890 at: http://127.0.0.1:5001/#/experiments/2/runs/599d40b17179484a886bd2207c08bf13\n",
      "🧪 View experiment at: http://127.0.0.1:5001/#/experiments/2\n",
      "🏃 View run rogue-snipe-438 at: http://127.0.0.1:5001/#/experiments/2/runs/ceab0457d9bd4fef8ac03ce4f4fe27e7\n",
      "🧪 View experiment at: http://127.0.0.1:5001/#/experiments/2\n",
      "🏃 View run aged-mare-850 at: http://127.0.0.1:5001/#/experiments/2/runs/3779e0349bbe41e88d80a05063e3b222\n",
      "🧪 View experiment at: http://127.0.0.1:5001/#/experiments/2\n",
      "Successfully registered model 'random-forest-regressor-best'.\n",
      "2025/05/23 00:02:47 INFO mlflow.store.model_registry.abstract_store: Waiting up to 300 seconds for model version to finish creation. Model name: random-forest-regressor-best, version 1\n",
      "Created version '1' of model 'random-forest-regressor-best'.\n"
     ]
    }
   ],
   "source": [
    "!python register_model.py --data_path ./output --top_n 5"
   ]
  },
  {
   "cell_type": "code",
   "execution_count": null,
   "metadata": {},
   "outputs": [],
   "source": []
  }
 ],
 "metadata": {
  "kernelspec": {
   "display_name": "temp",
   "language": "python",
   "name": "python3"
  },
  "language_info": {
   "codemirror_mode": {
    "name": "ipython",
    "version": 3
   },
   "file_extension": ".py",
   "mimetype": "text/x-python",
   "name": "python",
   "nbconvert_exporter": "python",
   "pygments_lexer": "ipython3",
   "version": "3.10.16"
  }
 },
 "nbformat": 4,
 "nbformat_minor": 2
}
